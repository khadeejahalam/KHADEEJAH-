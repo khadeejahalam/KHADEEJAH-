{
  "nbformat": 4,
  "nbformat_minor": 0,
  "metadata": {
    "colab": {
      "provenance": [],
      "authorship_tag": "ABX9TyO8FCy6/I+eHxwlvYVbjIq8",
      "include_colab_link": true
    },
    "kernelspec": {
      "name": "python3",
      "display_name": "Python 3"
    },
    "language_info": {
      "name": "python"
    }
  },
  "cells": [
    {
      "cell_type": "markdown",
      "metadata": {
        "id": "view-in-github",
        "colab_type": "text"
      },
      "source": [
        "<a href=\"https://colab.research.google.com/github/khadeejahalam/KHADEEJAH-/blob/main/22i2063_BIGDATA_A3_py.ipynb\" target=\"_parent\"><img src=\"https://colab.research.google.com/assets/colab-badge.svg\" alt=\"Open In Colab\"/></a>"
      ]
    },
    {
      "cell_type": "markdown",
      "source": [],
      "metadata": {
        "id": "ByaLoQt3rR70"
      }
    },
    {
      "cell_type": "markdown",
      "source": [
        "Pre-Processing"
      ],
      "metadata": {
        "id": "h0_udmjRreCk"
      }
    },
    {
      "cell_type": "code",
      "source": [
        "import json\n",
        "\n",
        "# Load the Sampled Amazon dataset\n",
        "def load_dataset(file_path):\n",
        "    with open('/content/meta_AMAZON_FASHION.json', 'r') as file:\n",
        "        data = json.load(file)\n",
        "    return data\n",
        "\n",
        "# Preprocess the data\n",
        "def preprocess_data(data):\n",
        "    # Removing unnecessary fields\n",
        "    for item in data:\n",
        "        del item['imageURL']\n",
        "\n",
        "    # Cleaning text data\n",
        "    for item in data:\n",
        "        item['title'] = item['title'].strip()\n",
        "\n",
        "    # Converting price to numeric format\n",
        "    for item in data:\n",
        "        item['price'] = float(item['price']) if 'price' in item else None\n",
        "    # Handling the  missing values\n",
        "    for item in data:\n",
        "        if 'price' not in item:\n",
        "            item['price'] = 0.0  # Replacing missing price with 0.0\n",
        "\n",
        "    return data\n",
        "\n",
        "\n",
        "    cleaned_data = data\n",
        "    return cleaned_data\n",
        "\n",
        "# Generating a new JSON file containing the preprocessed data\n",
        "def save_preprocessed_data(data, output_file):\n",
        "    with open(output_file, 'w') as file:\n",
        "        json.dump(data, file, indent=4)\n",
        "\n",
        "# BONUS: Performing the  batch processing to execute pre-processing in real time\n",
        "def batch_preprocessing(file_path, chunk_size, output_dir):\n",
        "    if not os.path.exists(output_dir):\n",
        "        os.makedirs(output_dir)\n",
        "\n",
        "    with open(file_path, 'r') as file:\n",
        "        chunk_num = 0\n",
        "        while True:\n",
        "            chunk = file.read(chunk_size)\n",
        "            if not chunk:\n",
        "                break\n",
        "            chunk_data = json.loads(chunk)\n",
        "            preprocessed_data = preprocess_data(chunk_data)\n",
        "            output_file = os.path.join(output_dir, f'preprocessed_data_chunk_{chunk_num}.json')\n",
        "            save_preprocessed_data(preprocessed_data, output_file)\n",
        "            chunk_num += 1\n"
      ],
      "metadata": {
        "id": "pTz7gkGBrf8k"
      },
      "execution_count": 1,
      "outputs": []
    },
    {
      "cell_type": "markdown",
      "source": [
        "Streaming Pipeline Setup"
      ],
      "metadata": {
        "id": "SETvlM31t2In"
      }
    },
    {
      "cell_type": "code",
      "source": [
        "from kafka import KafkaProducer, KafkaConsumer\n",
        "\n",
        "class DataProducer:\n",
        "    def __init__(self, bootstrap_servers):\n",
        "        self.producer = KafkaProducer(bootstrap_servers=bootstrap_servers)\n",
        "\n",
        "    def send_data(self, topic, data):\n",
        "        self.producer.send(topic, json.dumps(data).encode('utf-8'))\n",
        "\n",
        "class DataConsumer:\n",
        "    def __init__(self, bootstrap_servers, topic):\n",
        "        self.consumer = KafkaConsumer(topic, bootstrap_servers=bootstrap_servers)\n",
        "\n",
        "    def consume_data(self):\n",
        "        for message in self.consumer:\n",
        "            data = json.loads(message.value.decode('utf-8'))\n"
      ],
      "metadata": {
        "id": "rvHLiP4PvEaD"
      },
      "execution_count": null,
      "outputs": []
    },
    {
      "cell_type": "markdown",
      "source": [
        "Frequent Itemset Mining\n"
      ],
      "metadata": {
        "id": "XgFw-kJIvMdl"
      }
    },
    {
      "cell_type": "code",
      "source": [
        "def apriori_consumer():\n",
        "    pass\n",
        "\n",
        "def pcy_consumer():\n",
        "    pass\n",
        "\n",
        "def innovative_consumer():\n",
        "    pass\n"
      ],
      "metadata": {
        "id": "BRykKgK4vQ8C"
      },
      "execution_count": null,
      "outputs": []
    },
    {
      "cell_type": "markdown",
      "source": [
        "Database Integration\n"
      ],
      "metadata": {
        "id": "ckTl7jcUvVb5"
      }
    },
    {
      "cell_type": "code",
      "source": [
        "from pymongo import MongoClient\n",
        "\n",
        "client = MongoClient('mongodb://localhost:27017/')\n",
        "db = client['amazon_data']\n",
        "\n",
        "def store_results(data, collection_name):\n",
        "    collection = db[collection_name]\n",
        "    collection.insert_many(data)\n"
      ],
      "metadata": {
        "id": "STKQoLMlvccr"
      },
      "execution_count": null,
      "outputs": []
    },
    {
      "cell_type": "markdown",
      "source": [],
      "metadata": {
        "id": "dxh4_zBrvg-f"
      }
    }
  ]
}